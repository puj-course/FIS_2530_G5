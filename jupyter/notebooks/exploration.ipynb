//se corrige la ubicacion de la carpeta jupiter
